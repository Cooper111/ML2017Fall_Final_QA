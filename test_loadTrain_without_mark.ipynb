{
 "cells": [
  {
   "cell_type": "code",
   "execution_count": 1,
   "metadata": {
    "collapsed": true
   },
   "outputs": [],
   "source": [
    "from final_library import Load, Process\n",
    "\n",
    "stop_list = ['，','、','。','「','」','《','》','：','？','！','」','「']\n",
    "Load = Load()\n",
    "Process = Process(stop_list=stop_list)"
   ]
  },
  {
   "cell_type": "markdown",
   "metadata": {},
   "source": [
    "# load train data"
   ]
  },
  {
   "cell_type": "code",
   "execution_count": 2,
   "metadata": {
    "collapsed": true
   },
   "outputs": [],
   "source": [
    "train_x, train_y = Load.loadTrainData(path='./data/train-v1.1.json')\n",
    "\n",
    "# for quick test\n",
    "# train_x = train_x[:2]\n",
    "# train_y = train_y[:2]"
   ]
  },
  {
   "cell_type": "code",
   "execution_count": 23,
   "metadata": {
    "scrolled": true
   },
   "outputs": [
    {
     "data": {
      "text/plain": [
       "['廣州市，簡稱穗，現有別稱五羊仙城、羊城、穗城、穗垣、仙城、花城，為中華人民共和國廣東省省會，中國超大城市及副省級城市，是繼上海、北京之後的中國第三大城市、國家中心城市、也是中國華南地區的經濟、文化、科技和教育中心及交通樞紐，是中國人民解放軍南部戰區聯合作戰指揮部所在地。廣州擁有2200年以上歷史，為中國首批歷史文化名城之一，是中國南方最大、歷史最悠久的對外通商口岸，也是全國首批對外開放的14個沿海城市之一，世界著名的港口城市之一。廣州港是中國第五大港口，世界第八大港口。廣州在2010年成功舉辦第16屆亞洲運動會。\\n廣州地處華南，廣東省的東南部，珠江三角洲中北緣，西江、北江、東江三江匯合處，瀕臨南中國海，東連東莞市和惠州市博羅、龍門兩縣，西鄰佛山市的三水、南海和順德三區，北靠清遠市的市區和佛岡縣及韶關市的新豐縣，南接中山市，毗鄰香港、澳門特別行政區，地理位置優越，是「海上絲綢之路」的起點之一，被稱為中國的「南大門」。由於經濟水平發達、發展程度優秀，廣州與北京、上海、深圳並稱為中國內地四大一線城市。據聯合國《2016年中國城市可持續發展報告：衡量生態投入與人類發展》顯示，廣州人類發展指數蟬聯中國第一。',\n",
       " '世界第八大港口在中國的哪邊？']"
      ]
     },
     "execution_count": 23,
     "metadata": {},
     "output_type": "execute_result"
    }
   ],
   "source": [
    "idx = 1\n",
    "\n",
    "train_x[idx]"
   ]
  },
  {
   "cell_type": "code",
   "execution_count": 24,
   "metadata": {},
   "outputs": [
    {
     "data": {
      "text/plain": [
       "[217, 219]"
      ]
     },
     "execution_count": 24,
     "metadata": {},
     "output_type": "execute_result"
    }
   ],
   "source": [
    "train_y[idx]"
   ]
  },
  {
   "cell_type": "code",
   "execution_count": 25,
   "metadata": {},
   "outputs": [
    {
     "name": "stdout",
     "output_type": "stream",
     "text": [
      "ans idx :1\n",
      "ans tuple :[217, 219]\n",
      "question :\n",
      "世界第八大港口在中國的哪邊？\n",
      "ans :\n",
      "廣州\n"
     ]
    }
   ],
   "source": [
    "print('ans idx :' + str(idx))\n",
    "print('ans tuple :'+str(train_y[idx]))\n",
    "# verification\n",
    "print('question :')\n",
    "print(train_x[idx][1])\n",
    "\n",
    "print('ans :')\n",
    "print(train_x[idx][0][train_y[idx][0]:train_y[idx][1]])"
   ]
  },
  {
   "cell_type": "markdown",
   "metadata": {},
   "source": [
    "# jieba process"
   ]
  },
  {
   "cell_type": "code",
   "execution_count": 6,
   "metadata": {},
   "outputs": [
    {
     "name": "stderr",
     "output_type": "stream",
     "text": [
      "Building prefix dict from /Users/bl515/ML/ML2017/homework/Final/data/dict.txt.big ...\n",
      "Loading model from cache /var/folders/x4/_m3m0fk54074q2jc9rmb5r8c0000gn/T/jieba.uf8d308ad7fdb48530aa3b9a4ab6efab3.cache\n",
      "Loading model cost 2.854 seconds.\n",
      "Prefix dict has been built succesfully.\n"
     ]
    },
    {
     "name": "stdout",
     "output_type": "stream",
     "text": [
      "[==================================================] 100.00%\n"
     ]
    }
   ],
   "source": [
    "train_x_jieba = Process.jieba_tokenize_train_data(train_x)"
   ]
  },
  {
   "cell_type": "code",
   "execution_count": 26,
   "metadata": {},
   "outputs": [
    {
     "data": {
      "text/plain": [
       "[['廣州市',\n",
       "  '，',\n",
       "  '簡稱',\n",
       "  '穗',\n",
       "  '，',\n",
       "  '現有',\n",
       "  '別稱',\n",
       "  '五羊',\n",
       "  '仙城',\n",
       "  '、',\n",
       "  '羊城',\n",
       "  '、',\n",
       "  '穗城',\n",
       "  '、',\n",
       "  '穗垣',\n",
       "  '、',\n",
       "  '仙城',\n",
       "  '、',\n",
       "  '花城',\n",
       "  '，',\n",
       "  '為',\n",
       "  '中華人民共和國',\n",
       "  '廣東省',\n",
       "  '省會',\n",
       "  '，',\n",
       "  '中國',\n",
       "  '超大',\n",
       "  '城市',\n",
       "  '及',\n",
       "  '副省級',\n",
       "  '城市',\n",
       "  '，',\n",
       "  '是繼',\n",
       "  '上海',\n",
       "  '、',\n",
       "  '北京',\n",
       "  '之後',\n",
       "  '的',\n",
       "  '中國',\n",
       "  '第三',\n",
       "  '大城市',\n",
       "  '、',\n",
       "  '國家',\n",
       "  '中心',\n",
       "  '城市',\n",
       "  '、',\n",
       "  '也',\n",
       "  '是',\n",
       "  '中國',\n",
       "  '華南地區',\n",
       "  '的',\n",
       "  '經濟',\n",
       "  '、',\n",
       "  '文化',\n",
       "  '、',\n",
       "  '科技',\n",
       "  '和',\n",
       "  '教育',\n",
       "  '中心',\n",
       "  '及',\n",
       "  '交通樞紐',\n",
       "  '，',\n",
       "  '是',\n",
       "  '中國人民解放軍',\n",
       "  '南部',\n",
       "  '戰區',\n",
       "  '聯合作戰',\n",
       "  '指揮部',\n",
       "  '所在地',\n",
       "  '。',\n",
       "  '廣州',\n",
       "  '擁有',\n",
       "  '2200',\n",
       "  '年',\n",
       "  '以上',\n",
       "  '歷史',\n",
       "  '，',\n",
       "  '為',\n",
       "  '中國',\n",
       "  '首批',\n",
       "  '歷史',\n",
       "  '文化名城',\n",
       "  '之一',\n",
       "  '，',\n",
       "  '是',\n",
       "  '中國',\n",
       "  '南方',\n",
       "  '最大',\n",
       "  '、',\n",
       "  '歷史',\n",
       "  '最',\n",
       "  '悠久',\n",
       "  '的',\n",
       "  '對外',\n",
       "  '通商口岸',\n",
       "  '，',\n",
       "  '也',\n",
       "  '是',\n",
       "  '全國',\n",
       "  '首批',\n",
       "  '對外開放',\n",
       "  '的',\n",
       "  '14',\n",
       "  '個',\n",
       "  '沿海',\n",
       "  '城市',\n",
       "  '之一',\n",
       "  '，',\n",
       "  '世界',\n",
       "  '著名',\n",
       "  '的',\n",
       "  '港口城市',\n",
       "  '之一',\n",
       "  '。',\n",
       "  '廣州港',\n",
       "  '是',\n",
       "  '中國',\n",
       "  '第五',\n",
       "  '大',\n",
       "  '港口',\n",
       "  '，',\n",
       "  '世界',\n",
       "  '第八',\n",
       "  '大',\n",
       "  '港口',\n",
       "  '。',\n",
       "  '廣州',\n",
       "  '在',\n",
       "  '2010',\n",
       "  '年',\n",
       "  '成功',\n",
       "  '舉辦',\n",
       "  '第',\n",
       "  '16',\n",
       "  '屆',\n",
       "  '亞洲',\n",
       "  '運動會',\n",
       "  '。',\n",
       "  '\\n',\n",
       "  '廣州',\n",
       "  '地處',\n",
       "  '華南',\n",
       "  '，',\n",
       "  '廣東省',\n",
       "  '的',\n",
       "  '東南部',\n",
       "  '，',\n",
       "  '珠江三角洲',\n",
       "  '中',\n",
       "  '北緣',\n",
       "  '，',\n",
       "  '西江',\n",
       "  '、',\n",
       "  '北江',\n",
       "  '、',\n",
       "  '東江',\n",
       "  '三江',\n",
       "  '匯合處',\n",
       "  '，',\n",
       "  '瀕臨',\n",
       "  '南中國海',\n",
       "  '，',\n",
       "  '東連',\n",
       "  '東莞市',\n",
       "  '和',\n",
       "  '惠州市',\n",
       "  '博羅',\n",
       "  '、',\n",
       "  '龍門',\n",
       "  '兩縣',\n",
       "  '，',\n",
       "  '西鄰',\n",
       "  '佛山市',\n",
       "  '的',\n",
       "  '三水',\n",
       "  '、',\n",
       "  '南海',\n",
       "  '和',\n",
       "  '順德',\n",
       "  '三區',\n",
       "  '，',\n",
       "  '北靠',\n",
       "  '清遠市',\n",
       "  '的',\n",
       "  '市區',\n",
       "  '和',\n",
       "  '佛岡縣',\n",
       "  '及',\n",
       "  '韶關市',\n",
       "  '的',\n",
       "  '新豐縣',\n",
       "  '，',\n",
       "  '南接',\n",
       "  '中山市',\n",
       "  '，',\n",
       "  '毗鄰',\n",
       "  '香港',\n",
       "  '、',\n",
       "  '澳門特別行政區',\n",
       "  '，',\n",
       "  '地理位置',\n",
       "  '優越',\n",
       "  '，',\n",
       "  '是',\n",
       "  '「',\n",
       "  '海上',\n",
       "  '絲綢之路',\n",
       "  '」',\n",
       "  '的',\n",
       "  '起點',\n",
       "  '之一',\n",
       "  '，',\n",
       "  '被',\n",
       "  '稱',\n",
       "  '為',\n",
       "  '中國',\n",
       "  '的',\n",
       "  '「',\n",
       "  '南大門',\n",
       "  '」',\n",
       "  '。',\n",
       "  '由於',\n",
       "  '經濟',\n",
       "  '水平',\n",
       "  '發達',\n",
       "  '、',\n",
       "  '發展',\n",
       "  '程度',\n",
       "  '優秀',\n",
       "  '，',\n",
       "  '廣州',\n",
       "  '與',\n",
       "  '北京',\n",
       "  '、',\n",
       "  '上海',\n",
       "  '、',\n",
       "  '深圳',\n",
       "  '並稱',\n",
       "  '為',\n",
       "  '中國',\n",
       "  '內地',\n",
       "  '四大',\n",
       "  '一線',\n",
       "  '城市',\n",
       "  '。',\n",
       "  '據',\n",
       "  '聯合國',\n",
       "  '《',\n",
       "  '2016',\n",
       "  '年',\n",
       "  '中國',\n",
       "  '城市',\n",
       "  '可',\n",
       "  '持續',\n",
       "  '發展',\n",
       "  '報告',\n",
       "  '：',\n",
       "  '衡量',\n",
       "  '生態',\n",
       "  '投入',\n",
       "  '與',\n",
       "  '人類',\n",
       "  '發展',\n",
       "  '》',\n",
       "  '顯示',\n",
       "  '，',\n",
       "  '廣州',\n",
       "  '人類',\n",
       "  '發展',\n",
       "  '指數',\n",
       "  '蟬聯',\n",
       "  '中國',\n",
       "  '第一',\n",
       "  '。'],\n",
       " ['世界', '第八', '大', '港口', '在', '中國', '的', '哪邊', '？']]"
      ]
     },
     "execution_count": 26,
     "metadata": {},
     "output_type": "execute_result"
    }
   ],
   "source": [
    "train_x_jieba[1]"
   ]
  },
  {
   "cell_type": "markdown",
   "metadata": {},
   "source": [
    "# remove marks (according to *stop_list* )"
   ]
  },
  {
   "cell_type": "code",
   "execution_count": 8,
   "metadata": {},
   "outputs": [
    {
     "name": "stdout",
     "output_type": "stream",
     "text": [
      "[==================================================] 100.00%\n"
     ]
    }
   ],
   "source": [
    "train_X, train_Y, invalid_list = Process.remove_Xs_mark_according_stop_list(train_x_jieba, train_y)"
   ]
  },
  {
   "cell_type": "code",
   "execution_count": 9,
   "metadata": {},
   "outputs": [
    {
     "data": {
      "text/plain": [
       "[['從',\n",
       "  '甲骨文',\n",
       "  '到',\n",
       "  '小篆',\n",
       "  '漢字',\n",
       "  '經歷',\n",
       "  '了',\n",
       "  '從',\n",
       "  '鉅細靡遺',\n",
       "  '描繪',\n",
       "  '意象',\n",
       "  '的',\n",
       "  '方式',\n",
       "  '往',\n",
       "  '簡化',\n",
       "  '成',\n",
       "  '容易',\n",
       "  '紀錄',\n",
       "  '刻畫',\n",
       "  '的',\n",
       "  '方向',\n",
       "  '變遷',\n",
       "  '字形',\n",
       "  '逐步',\n",
       "  '脫離',\n",
       "  '事物',\n",
       "  '的',\n",
       "  '具體',\n",
       "  '形象',\n",
       "  '這',\n",
       "  '一時期',\n",
       "  '的',\n",
       "  '漢字',\n",
       "  '也',\n",
       "  '稱',\n",
       "  '為',\n",
       "  '古文字',\n",
       "  '\\n',\n",
       "  '商周',\n",
       "  '時期',\n",
       "  '的',\n",
       "  '甲骨文',\n",
       "  '已經',\n",
       "  '是',\n",
       "  '一種',\n",
       "  '比較',\n",
       "  '完整',\n",
       "  '的',\n",
       "  '文字',\n",
       "  '體系',\n",
       "  '在',\n",
       "  '已',\n",
       "  '發現',\n",
       "  '的',\n",
       "  '4500',\n",
       "  '多個',\n",
       "  '甲骨文',\n",
       "  '單字',\n",
       "  '中',\n",
       "  '目前',\n",
       "  '已能',\n",
       "  '認出',\n",
       "  '近',\n",
       "  '2000',\n",
       "  '字',\n",
       "  '與',\n",
       "  '甲骨文',\n",
       "  '同期',\n",
       "  '青銅器',\n",
       "  '上',\n",
       "  '鑄造',\n",
       "  '的',\n",
       "  '文字',\n",
       "  '被',\n",
       "  '稱',\n",
       "  '為',\n",
       "  '金文',\n",
       "  '或',\n",
       "  '鐘鼎文',\n",
       "  '西周時期',\n",
       "  '的',\n",
       "  '散氏盤',\n",
       "  '毛公鼎',\n",
       "  '具備',\n",
       "  '很',\n",
       "  '高',\n",
       "  '的',\n",
       "  '史料',\n",
       "  '和',\n",
       "  '藝術',\n",
       "  '價值',\n",
       "  '\\n',\n",
       "  '春秋時代',\n",
       "  '開始',\n",
       "  '各地',\n",
       "  '諸侯',\n",
       "  '相爭',\n",
       "  '而',\n",
       "  '原本',\n",
       "  '周',\n",
       "  '文化',\n",
       "  '獨尊',\n",
       "  '的',\n",
       "  '局面',\n",
       "  '逐漸',\n",
       "  '破壞',\n",
       "  '各',\n",
       "  '地區',\n",
       "  '文化',\n",
       "  '開始',\n",
       "  '有',\n",
       "  '在',\n",
       "  '地化',\n",
       "  '的',\n",
       "  '改變',\n",
       "  '趨勢',\n",
       "  '到',\n",
       "  '了',\n",
       "  '戰國時代',\n",
       "  '以後',\n",
       "  '這種',\n",
       "  '情況',\n",
       "  '更',\n",
       "  '明顯',\n",
       "  '在',\n",
       "  '文字',\n",
       "  '使用',\n",
       "  '方面',\n",
       "  '可以',\n",
       "  '粗略',\n",
       "  '依照',\n",
       "  '地域',\n",
       "  '分為',\n",
       "  '五大',\n",
       "  '系統',\n",
       "  '東方',\n",
       "  '齊系',\n",
       "  '東北',\n",
       "  '燕系',\n",
       "  '南方',\n",
       "  '楚系',\n",
       "  '北方',\n",
       "  '晉系',\n",
       "  '和',\n",
       "  '西方',\n",
       "  '秦系',\n",
       "  '文字',\n",
       "  '各',\n",
       "  '系統',\n",
       "  '的',\n",
       "  '文字',\n",
       "  '大體上',\n",
       "  '相近',\n",
       "  '只有',\n",
       "  '小部份',\n",
       "  '文字',\n",
       "  '有所',\n",
       "  '差異',\n",
       "  '因此',\n",
       "  '彼此',\n",
       "  '文書',\n",
       "  '往來',\n",
       "  '並',\n",
       "  '沒有',\n",
       "  '太',\n",
       "  '大',\n",
       "  '問題'],\n",
       " ['為', '什麼', '戰國時代', '時', '不同', '國家', '彼此', '文書', '的', '來往', '並無大', '問題']]"
      ]
     },
     "execution_count": 9,
     "metadata": {},
     "output_type": "execute_result"
    }
   ],
   "source": [
    "train_X[idx]"
   ]
  },
  {
   "cell_type": "code",
   "execution_count": 27,
   "metadata": {},
   "outputs": [
    {
     "name": "stdout",
     "output_type": "stream",
     "text": [
      "question : \n",
      "['世界', '第八', '大', '港口', '在', '中國', '的', '哪邊']\n",
      "ans :\n",
      "['廣州港']\n"
     ]
    }
   ],
   "source": [
    "# verification\n",
    "idx = 1\n",
    "print('question : ')\n",
    "print(train_X[idx][1])\n",
    "print('ans :')\n",
    "print(train_X[idx][0][train_Y[idx][0]:train_Y[idx][1]+1])"
   ]
  },
  {
   "cell_type": "markdown",
   "metadata": {},
   "source": [
    "# result"
   ]
  },
  {
   "cell_type": "code",
   "execution_count": null,
   "metadata": {
    "collapsed": true
   },
   "outputs": [],
   "source": [
    "import pickle"
   ]
  },
  {
   "cell_type": "code",
   "execution_count": null,
   "metadata": {
    "collapsed": true
   },
   "outputs": [],
   "source": [
    "pickle.dump(train_X, open('train_X_string.pkl', 'wb'))\n",
    "pickle.dump(train_Y, open('train_Y.pkl', 'wb'))\n"
   ]
  },
  {
   "cell_type": "code",
   "execution_count": null,
   "metadata": {},
   "outputs": [],
   "source": [
    "train_X_r = pickle.load(open('train_X_string.pkl', 'rb'))\n",
    "train_Y_r = pickle.load(open('train_Y.pkl', 'rb'))"
   ]
  },
  {
   "cell_type": "code",
   "execution_count": null,
   "metadata": {
    "scrolled": false
   },
   "outputs": [],
   "source": [
    "len(train_X_r[][0])"
   ]
  },
  {
   "cell_type": "code",
   "execution_count": null,
   "metadata": {},
   "outputs": [],
   "source": [
    "a = '從甲骨文到小篆，漢字經歷了從鉅細靡遺描繪意象的方式往簡化成容易紀錄刻畫的方向變遷，字形逐步脫離事物的具體形象。這一時期的漢字也稱為古文字。商周時期的甲骨文已經是一種比較完整的文字體系。在已發現的4500多個甲骨文單字中，目前已能認出近2000字。與甲骨文同期，青銅器上鑄造的文字被稱為金文或鐘鼎文。西周時期的《散氏盤》、《毛公鼎》具備很高的史料和藝術價值。春秋時代開始，各地諸侯相爭，而原本周文化獨尊的局面逐漸破壞，各地區文化開始有「在地化」的改變趨勢。到了戰國時代以後，這種情況更明顯，在文字使用方面可以粗略依照地域分為五大系統：東方齊系、東北燕系、南方楚系、北方晉系和西方秦系文字，各系統的文字大體上相近，只有小部份文字有所差異，因此彼此文書往來並沒有太大問題。'\n",
    "a[295:318]"
   ]
  }
 ],
 "metadata": {
  "kernelspec": {
   "display_name": "Python 3",
   "language": "python",
   "name": "python3"
  },
  "language_info": {
   "codemirror_mode": {
    "name": "ipython",
    "version": 3
   },
   "file_extension": ".py",
   "mimetype": "text/x-python",
   "name": "python",
   "nbconvert_exporter": "python",
   "pygments_lexer": "ipython3",
   "version": "3.6.1"
  }
 },
 "nbformat": 4,
 "nbformat_minor": 2
}
